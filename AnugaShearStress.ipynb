{
 "cells": [
  {
   "cell_type": "code",
   "execution_count": 1,
   "metadata": {
    "collapsed": true
   },
   "outputs": [],
   "source": [
    "import numpy as np\n"
   ]
  },
  {
   "cell_type": "code",
   "execution_count": 7,
   "metadata": {
    "collapsed": true
   },
   "outputs": [],
   "source": [
    "depth = \"ArcFiles/depth_nm_20_1m_asc.txt\"\n",
    "momentum = \"ArcFiles/momentum_nm_20_1m_asc.txt\"\n",
    "stage = \"ArcFiles/stage_nm_20_1m_asc.txt\""
   ]
  },
  {
   "cell_type": "code",
   "execution_count": 8,
   "metadata": {
    "collapsed": true
   },
   "outputs": [],
   "source": [
    "DArray = np.loadtxt(depth,skiprows=6)\n",
    "SArray = np.loadtxt(stage,skiprows=6)\n",
    "MArray = np.loadtxt(momentum,skiprows=6)"
   ]
  },
  {
   "cell_type": "code",
   "execution_count": 9,
   "metadata": {},
   "outputs": [
    {
     "data": {
      "text/plain": [
       "array([[-9999., -9999., -9999., ..., -9999., -9999., -9999.],\n",
       "       [-9999., -9999., -9999., ..., -9999., -9999., -9999.],\n",
       "       [-9999., -9999., -9999., ..., -9999., -9999., -9999.],\n",
       "       ..., \n",
       "       [-9999., -9999., -9999., ..., -9999., -9999., -9999.],\n",
       "       [-9999., -9999., -9999., ..., -9999., -9999., -9999.],\n",
       "       [-9999., -9999., -9999., ..., -9999., -9999., -9999.]])"
      ]
     },
     "execution_count": 9,
     "metadata": {},
     "output_type": "execute_result"
    }
   ],
   "source": []
  },
  {
   "cell_type": "code",
   "execution_count": null,
   "metadata": {
    "collapsed": true
   },
   "outputs": [],
   "source": []
  }
 ],
 "metadata": {
  "kernelspec": {
   "display_name": "Python 3",
   "language": "python",
   "name": "python3"
  },
  "language_info": {
   "codemirror_mode": {
    "name": "ipython",
    "version": 3
   },
   "file_extension": ".py",
   "mimetype": "text/x-python",
   "name": "python",
   "nbconvert_exporter": "python",
   "pygments_lexer": "ipython3",
   "version": "3.6.3"
  }
 },
 "nbformat": 4,
 "nbformat_minor": 2
}
